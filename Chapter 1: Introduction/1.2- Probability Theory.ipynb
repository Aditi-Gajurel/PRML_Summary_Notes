{
 "cells": [
  {
   "cell_type": "markdown",
   "metadata": {},
   "source": [
    "## Probability Theory"
   ]
  },
  {
   "cell_type": "markdown",
   "metadata": {},
   "source": [
    "Due of uncertaininty in the world, we are talking about probability now.  The cause of uncertaininty are numerous ranging from noises to teh limited data sizes. Probanility Theory helps us by providing a consistent framework for the qualification and manipulation of the uncertainity and helps us get the foundation of pattern recognition.\n",
    "\n",
    "There are two fundamental rules of probability theory viz;\n",
    "\n",
    "- Sum rule\n",
    "- Product rule"
   ]
  },
  {
   "cell_type": "markdown",
   "metadata": {},
   "source": [
    "## Sum Rule\n",
    "to understand the sum rule, we will start with an example from Khan Academy.\n",
    "\n",
    "Suppose we have a bag with\n",
    "- 8 Green Cubes\n",
    "- 9 Green Circles\n",
    "- 5 Yellow Cubes\n",
    "- 7 Yellow Crcles\n",
    "\n",
    "So, what is the probability of getting cube of any color, $\\text{P(Cube of any color)}$? Before answering the question let's ponder on few things. There are altogether 29 objects in the bag\n"
   ]
  },
  {
   "cell_type": "code",
   "execution_count": null,
   "metadata": {},
   "outputs": [],
   "source": []
  }
 ],
 "metadata": {
  "kernelspec": {
   "display_name": "Python 3",
   "language": "python",
   "name": "python3"
  },
  "language_info": {
   "codemirror_mode": {
    "name": "ipython",
    "version": 3
   },
   "file_extension": ".py",
   "mimetype": "text/x-python",
   "name": "python",
   "nbconvert_exporter": "python",
   "pygments_lexer": "ipython3",
   "version": "3.8.5"
  }
 },
 "nbformat": 4,
 "nbformat_minor": 4
}
