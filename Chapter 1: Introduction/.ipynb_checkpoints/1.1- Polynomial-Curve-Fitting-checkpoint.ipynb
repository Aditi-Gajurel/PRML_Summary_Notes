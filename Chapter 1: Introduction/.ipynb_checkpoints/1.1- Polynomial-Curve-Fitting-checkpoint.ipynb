{
 "cells": [
  {
   "cell_type": "markdown",
   "metadata": {},
   "source": [
    "## Polynomial Curve Fitting"
   ]
  },
  {
   "cell_type": "markdown",
   "metadata": {},
   "source": [
    "\n",
    "- Polynomial Curve Fitting is an example of Regression, a supervised machine learning algorithm.\n",
    "- __End Goal of Curve Fitting__: We observe a real-valued input variable, $x$, and we intend to predict the target variable, $t$. Polynomial Curve fitting is a generalised term; curve fitting with various input variables, $x$, $y$, and many more.\n",
    "\n",
    "We will see curve fitting on a synthetic dataset.\n",
    "\n",
    "For the synthetic datset, we will generate the data points from a function $\\text{sin2$\\pi$}x$ with some random normal noise included.\n"
   ]
  },
  {
   "cell_type": "code",
   "execution_count": 24,
   "metadata": {},
   "outputs": [
    {
     "data": {
      "image/png": "[encoded data removed]",
      "text/plain": [
       "<Figure size 432x288 with 1 Axes>"
      ]
     },
     "metadata": {
      "needs_background": "light"
     },
     "output_type": "display_data"
    }
   ],
   "source": [
    "## Imports\n",
    "import numpy as np\n",
    "import matplotlib.pyplot as plt\n",
    "\n",
    "## Set a seed\n",
    "np.random.seed(0)\n",
    "\n",
    "## Create Synthetic Dataset\n",
    "x = np.linspace(0.0, 1.0, num=10)\n",
    "t = (np.sin(2*np.pi*x)) + np.random.normal(0, 1, 10)\n",
    "\n",
    "txt=\"Fig 1.1: Scatter plot of the observations with targets\"\n",
    "plt.scatter(x, t)\n",
    "plt.xlabel(\"Observations, (x)\")\n",
    "plt.ylabel(\"Targets, (t)\")\n",
    "plt.title(\"Synthetic data points\")\n",
    "\n",
    "plt.show()"
   ]
  },
  {
   "cell_type": "markdown",
   "metadata": {},
   "source": [
    "## In mathematical Notations\n",
    "\n",
    "$$\\text{x} = (x_1, x_2, ..., x_N)^T ==>\\text{N observations of x}$$\n",
    "\n",
    "$$\\text{t} = (t_1, t_2, ..., t_N)^T ==>\\text{N target variables, each corresponding to the ovservation data points}$$\n",
    "\n",
    "The scatter plot in the Figure 1.1 possess an underlying regularity which we want to learn. This is an intricate problem since we have finite number of data set with noises embedded.\n",
    "\n",
    "Now, let's consider a simple approach for curve fitting. Consider a polyomial function of the form:\n",
    "\n",
    "$$y(x,w) =w_0 + w_1x + w_2x^2+...+w_Mx^M $$\n",
    "\n",
    "$$ = \\sum_{j=1}^{M}w_jx^j$$\n",
    "\n",
    "where,\n",
    "\n",
    "M = order of polynomial \n",
    "\n",
    "$w_0, w_1, ..., w_M $= polynomial coefficients (denoted by vector, $\\text{v}$)\n",
    "\n",
    "__Remember__: $y(x,w)$ is non linear function of $x$ but the linear function of coefficients, $w$. Functions which are linear in terms of unknown parameters are called linear models.\n",
    "\n",
    "__Determinine the unknown parameters, $\\text{w}$__\n",
    "\n",
    "Value of the coefficients are found by fitting the polynomial to training dataset. For this, we minimize the error function that calculates the misfit between function $y(x,w)$ and the training data points. One of the widely ised error function is the Sum of the Squares of the Errors (SSE).\n",
    "\n",
    "$$\\text{Sum of the Squares of Errors (SSE} = E(w) = \\frac{1}{2}\\sum_{n =1}^{N}{[{y(x_n, w) -t_n}]^2}$$\n",
    "\n",
    "$\\frac{1}{2}$ has a convinience, which we will see in later chapters. SSE is a non-negative quantity  and we wish to choose unknown parameters, $\\text{w}$ so as to make SSE minimum. The error function is quardatic so its first derivative with respect to coefficients, $\\text{w}$ will be a linear equation with $\\text{w}$ as unknown. So, we can solve for the unique values of $\\text{w}$, which we will denote by $\\text{w}^*$ since this set of parameters minimize the error function's value and the resulting curve is given by $y (x, w^*)$. \n",
    "\n",
    "\n",
    "__Determinine the order of the polynomial, $\\text{M}$__\n",
    "\n",
    "Now, we need to find $\\text{M}$ for the curve. $\\text{M}$ is the order of the polynomial and selction of the order of the polynomial comes under a broad topic, _Model Comparison_ or _Model Selection_.\n",
    "\n",
    "\n",
    "- With $\\text{M}=0$\n",
    "\n",
    "$$y(x, w) = w_0$$\n",
    "\n",
    "$$\\text{E(w)} = .5\\sum_{n =1}^{N}[{{w_0 -t_n}]^2}$$\n",
    "\n"
   ]
  },
  {
   "cell_type": "markdown",
   "metadata": {},
   "source": [
    "For the elucidation, we will see how the unique value for $\\text{w}$ is found out with $\\text{M} =0$, since it is easiest among all possible valued of $\\text{M}$ to calculate manually. For $\\text{M} = 0$, the coefficient(unknown parameter) is denoted by $w_0$, so we wil find $w_0$ now.\n",
    "\n",
    "The Error function fully expanded seems like:\n",
    "\n",
    "$$\\text{E($w_0$)} = .5*[\\ (w_0-1.76405235)^2 + (w_0-1.04294482)^2+ (w_0-1.96354574)^2+ (w_0-3.1069186)^2+ (w_0-2.20957813)^2+ (w_0+1.31929802)^2+ (w_0-0.08406301)^2+ (w_0+1.13616496)^2+ (w_0+0.74600646)^2+ (w_0-0.4105985)^2\\ ]$$\n",
    "\n"
   ]
  },
  {
   "cell_type": "code",
   "execution_count": 16,
   "metadata": {},
   "outputs": [],
   "source": [
    "from sympy import *"
   ]
  },
  {
   "cell_type": "code",
   "execution_count": 17,
   "metadata": {},
   "outputs": [],
   "source": [
    "w_0 = Symbol('w_0')\n",
    "E = .5 * ((w_0 - 1.76405235)**2 + (w_0 - 1.04294482)**2+ (w_0 - 1.96354574)**2+ (w_0 - 3.1069186)**2+ \n",
    "        (w_0 - 2.20957813)**2+ (w_0 + 1.31929802)**2+ (w_0 - 0.08406301)**2+ (w_0 + 1.13616496)**2+ \n",
    "        (w_0 + 0.74600646)**2+ (w_0 - 0.4105985)**2) "
   ]
  },
  {
   "cell_type": "markdown",
   "metadata": {},
   "source": [
    "Now, we compute the first derivative of $\\text{E($w_0$)}$ with respect to $w_0$ and solve it for $w_0$. Mathematically:\n",
    "\n",
    "$$\n",
    "\\frac{\\partial E(w_0)}{\\partial w_0} = 0\n",
    "$$\n",
    "\n",
    "In case, we choose higher $\\text{M}$, we would have more more unknown parameters, to state there would be $\\text{M+1}$, unknown parameters and we would find all the unknown parameters by simply taking the partial derivative of the error function w.r.t to all the unknown parameters."
   ]
  },
  {
   "cell_type": "code",
   "execution_count": 20,
   "metadata": {},
   "outputs": [
    {
     "name": "stdout",
     "output_type": "stream",
     "text": [
      "10.0*w_0 - 7.38023171\n"
     ]
    }
   ],
   "source": [
    "## Calculate the partial derivative w.r.t w_0\n",
    "Eprime = E.diff(w_0)\n",
    "\n",
    "## See the output\n",
    "print(Eprime)"
   ]
  },
  {
   "cell_type": "code",
   "execution_count": 23,
   "metadata": {},
   "outputs": [
    {
     "name": "stdout",
     "output_type": "stream",
     "text": [
      "[0.738023171000000]\n"
     ]
    }
   ],
   "source": [
    "## Solve the linear equation of Eprime by equating to 0.\n",
    "w_0 = solve(Eprime)\n",
    "print(w_0)"
   ]
  },
  {
   "cell_type": "markdown",
   "metadata": {},
   "source": [
    "So, now this is the value for $w_0$ to minimize the error function. Let's plot this line on the original data points set.\n",
    "\n",
    "$$\n",
    "y = 0.739$$"
   ]
  },
  {
   "cell_type": "code",
   "execution_count": 29,
   "metadata": {},
   "outputs": [
    {
     "data": {
      "image/png": "[encoded data removed]",
      "text/plain": [
       "<Figure size 432x288 with 1 Axes>"
      ]
     },
     "metadata": {
      "needs_background": "light"
     },
     "output_type": "display_data"
    }
   ],
   "source": [
    "plt.scatter(x, t)\n",
    "plt.show()"
   ]
  },
  {
   "cell_type": "code",
   "execution_count": 34,
   "metadata": {},
   "outputs": [
    {
     "data": {
      "image/png": "[encoded data removed]",
      "text/plain": [
       "<Figure size 432x288 with 1 Axes>"
      ]
     },
     "metadata": {
      "needs_background": "light"
     },
     "output_type": "display_data"
    }
   ],
   "source": [
    "fig, ax = plt.subplots()\n",
    "ax.scatter(x, t)\n",
    "ax.hlines(y=0.739, xmin=0, xmax=1,color='r')\n",
    "plt.show()"
   ]
  },
  {
   "cell_type": "code",
   "execution_count": null,
   "metadata": {},
   "outputs": [],
   "source": []
  }
 ],
 "metadata": {
  "kernelspec": {
   "display_name": "Python 3",
   "language": "python",
   "name": "python3"
  },
  "language_info": {
   "codemirror_mode": {
    "name": "ipython",
    "version": 3
   },
   "file_extension": ".py",
   "mimetype": "text/x-python",
   "name": "python",
   "nbconvert_exporter": "python",
   "pygments_lexer": "ipython3",
   "version": "3.8.5"
  }
 },
 "nbformat": 4,
 "nbformat_minor": 4
}
